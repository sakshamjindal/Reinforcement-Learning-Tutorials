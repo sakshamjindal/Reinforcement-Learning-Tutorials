{
 "cells": [
  {
   "cell_type": "code",
   "execution_count": 1,
   "id": "a4b8a69a",
   "metadata": {},
   "outputs": [],
   "source": [
    "import wrappers\n",
    "import dqn_model"
   ]
  },
  {
   "cell_type": "code",
   "execution_count": 2,
   "id": "67ecde05",
   "metadata": {},
   "outputs": [],
   "source": [
    "import time\n",
    "import numpy as np\n",
    "import collections\n",
    "\n",
    "import torch\n",
    "import torch.nn as nn\n",
    "import torch.optim as optim\n",
    "\n",
    "from tensorboardX import SummaryWriter"
   ]
  },
  {
   "cell_type": "code",
   "execution_count": 3,
   "id": "c97ff9f4",
   "metadata": {},
   "outputs": [],
   "source": [
    "DEFAULT_ENV_NAME = \"PongNoFrameskip-v4\"\n",
    "MEAN_REWARD_BOUND = 19.0"
   ]
  },
  {
   "cell_type": "code",
   "execution_count": 4,
   "id": "e9e04d88",
   "metadata": {},
   "outputs": [],
   "source": [
    "GAMMA = 0.99 # Gamma for Bellman approximations\n",
    "BATCH_SIZE = 32 # Batch size sampled from the replay buffer\n",
    "REPLAY_SIZE = 10000 # Maximum capacity of the buffer\n",
    "REPLAY_START_SIZE = 10000 # Count of frames we wait for before starting training to populate the replay buffer\n",
    "LEARNING_RATE = 0.0001 # learning rate used in adam optimiser\n",
    "SYNC_TARGET_FRAMES = 1000 # Model sync frequency"
   ]
  },
  {
   "cell_type": "code",
   "execution_count": 5,
   "id": "b572614d",
   "metadata": {},
   "outputs": [],
   "source": [
    "EPSILON_DECAY_LAST_FRAME = 150000\n",
    "EPSILON_START = 1.0\n",
    "EPSILON_FINAL = 0.01"
   ]
  },
  {
   "cell_type": "code",
   "execution_count": 6,
   "id": "2e36f4a2",
   "metadata": {},
   "outputs": [],
   "source": [
    "device = \"cuda:0\"\n",
    "ENV= DEFAULT_ENV_NAME"
   ]
  },
  {
   "cell_type": "code",
   "execution_count": 7,
   "id": "7edb827d",
   "metadata": {},
   "outputs": [],
   "source": [
    "# Code for Experience Buffer\n",
    "\n",
    "Experience = collections.namedtuple(\n",
    "    'Experience', field_names = ['state', 'action', 'reward',\n",
    "                                 'done', 'new_state'])\n",
    "\n",
    "class ExperienceBuffer:\n",
    "    \n",
    "    def __init__(self, capacity):\n",
    "        self.buffer = collections.deque(maxlen = capacity)\n",
    "        \n",
    "    def __len__(self):\n",
    "        return len(self.buffer)\n",
    "    \n",
    "    def append(self, experience):\n",
    "        self.buffer.append(experience)\n",
    "        \n",
    "    def sample(self, batch_size):\n",
    "        \n",
    "        indices = np.random.choice(len(self.buffer), batch_size,\n",
    "                                  replace = False)\n",
    "        states, actions, rewards, dones, next_states = \\\n",
    "            zip(*[self.buffer[idx] for idx in indices])"
   ]
  },
  {
   "cell_type": "code",
   "execution_count": 17,
   "id": "61d0ad85",
   "metadata": {},
   "outputs": [],
   "source": [
    "class Agent:\n",
    "    \n",
    "    def __init__(self, env, exp_buffer):\n",
    "        self.env = env\n",
    "        self.exp_buffer = exp_buffer\n",
    "        self._reset()\n",
    "        \n",
    "    def _reset(self):\n",
    "        self.state = env.reset()\n",
    "        self.total_reward = 0.0\n",
    "        \n",
    "        \n",
    "    @torch.no_grad()\n",
    "    def play_step(self, net, epsilon=0.0, device = \"cpu\"):\n",
    "        \n",
    "        \"\"\"\n",
    "        The main method of the agent is to perform a step in\n",
    "        the environment and store its result int the buffer.\n",
    "        We take an action and perform a random action, we take the\n",
    "        random action; otherwise, we use the past model to obtain \n",
    "        the Q-values for all possible actions and choose the best\n",
    "        \"\"\"\n",
    "        done_reward = None\n",
    "        \n",
    "        # Exploitation vs explorations\n",
    "        if np.random.random() < epsilon:\n",
    "            action = env.action_space.sample()\n",
    "        else:\n",
    "            state_a = np.array([self.state], copy = False)\n",
    "            state_v = torch.tensor(state_a).to(device)\n",
    "            q_vals_v = net(state_v)\n",
    "            _, act_v = torch.max(q_vals_v, dim = 1)\n",
    "            action - int(act_v.item())\n",
    "\n",
    "        new_state, reward, is_done, _ = self.env.step(action)\n",
    "        self.total_reward += reward\n",
    "        \n",
    "        exp = Experience(self.state, action, reward, \n",
    "                        is_done, new_state)\n",
    "        \n",
    "        self.exp_buffer.append(exp)\n",
    "        self.state = new_state\n",
    "        if is_done:\n",
    "            done_reward = self.total_reward\n",
    "            self._reset()\n",
    "            \n",
    "        return done_reward\n",
    "    \n",
    "    def calc_loss(batch, net, tgt_net, device=\"cpu\"):\n",
    "        \n",
    "        states, actions, rewards, dones, next_states = batch\n",
    "        \n",
    "        states_v = torch.tensor(np.array(\n",
    "            states, copy = False)).to(device)\n",
    "        next_states_v = torch.tensor(np.array(\n",
    "            next_states, copy = False)).to(device)\n",
    "        actions_v = torch.tensor(actions).to(device)\n",
    "        rewards_v = torch.tensor(rewards).to(device)\n",
    "        done_mask = torch.BoolTensor(dones).to(device)\n",
    "        \n",
    "        # pass observations to the first model and \n",
    "        # extract the specific Q-values for the taken \n",
    "        # actions usig the gather () tensor operation\n",
    "        state_action_values = net(states_v).gather(\n",
    "            1, actions_v.unsqueeze(-1)).squeeze(-1)\n",
    "        \n",
    "        next_state_values = tgt_net(next_states_v).max(1)[0]\n",
    "        \n",
    "        # to make discounted reward of the last step in the \n",
    "        # episode, then our value of the action doesn't have\n",
    "        # discounted rewarsd = 0\n",
    "        next_state_values[done_mask] = 0.0\n",
    "        \n",
    "        # nullify the gradients from it's computational graph\n",
    "        # to prevent gradietns from flowing into the NN\n",
    "        # to calculate the Q approximations for the next states\n",
    "        # without this the backpropgatin of the loss will start \n",
    "        # to affect both the prediction for the current state \n",
    "        # an the next state\n",
    "        next_state_values = next_state_values.detach()\n",
    "        \n",
    "        expected_state_action_values = next_state_values*GAMMA + \\\n",
    "                                        rewards_v\n",
    "        \n",
    "        return nn.MSELoss()(state_action_values,\n",
    "                           expected_state_action_values)"
   ]
  },
  {
   "cell_type": "markdown",
   "id": "604fdf68",
   "metadata": {},
   "source": [
    "Create an environment with all the required wrappers applied, the NN that we are going to train, and our target network with the same architecture"
   ]
  },
  {
   "cell_type": "code",
   "execution_count": 18,
   "id": "a214225a",
   "metadata": {},
   "outputs": [],
   "source": [
    "env = wrappers.make_env(DEFAULT_ENV_NAME)"
   ]
  },
  {
   "cell_type": "code",
   "execution_count": 19,
   "id": "3c019ea9",
   "metadata": {},
   "outputs": [
    {
     "name": "stdout",
     "output_type": "stream",
     "text": [
      "(4, 84, 84)\n",
      "6\n"
     ]
    }
   ],
   "source": [
    "print(env.observation_space.shape)\n",
    "print(env.action_space.n)"
   ]
  },
  {
   "cell_type": "code",
   "execution_count": 20,
   "id": "a0631499",
   "metadata": {},
   "outputs": [],
   "source": [
    "net = dqn_model.DQN(env.observation_space.shape,\n",
    "                    env.action_space.n).to(device)\n",
    "tgt_net = dqn_model.DQN(env.observation_space.shape,\n",
    "                        env.action_space.n).to(device)"
   ]
  },
  {
   "cell_type": "code",
   "execution_count": 21,
   "id": "383a4c35",
   "metadata": {},
   "outputs": [],
   "source": [
    "writer = SummaryWriter(comment=\"-\" + ENV)"
   ]
  },
  {
   "cell_type": "code",
   "execution_count": 22,
   "id": "c19bee64",
   "metadata": {},
   "outputs": [
    {
     "name": "stdout",
     "output_type": "stream",
     "text": [
      "DQN(\n",
      "  (conv): Sequential(\n",
      "    (0): Conv2d(4, 32, kernel_size=(8, 8), stride=(4, 4))\n",
      "    (1): ReLU()\n",
      "    (2): Conv2d(32, 64, kernel_size=(4, 4), stride=(2, 2))\n",
      "    (3): ReLU()\n",
      "    (4): Conv2d(64, 64, kernel_size=(3, 3), stride=(1, 1))\n",
      "    (5): ReLU()\n",
      "  )\n",
      "  (fc): Sequential(\n",
      "    (0): Linear(in_features=3136, out_features=512, bias=True)\n",
      "    (1): ReLU()\n",
      "    (2): Linear(in_features=512, out_features=6, bias=True)\n",
      "  )\n",
      ")\n"
     ]
    }
   ],
   "source": [
    "print(net)"
   ]
  },
  {
   "cell_type": "markdown",
   "id": "04c0c499",
   "metadata": {},
   "source": [
    "Create an experience relay buffer of the required size and pass\n",
    "it to the agent"
   ]
  },
  {
   "cell_type": "code",
   "execution_count": 23,
   "id": "b5f669b1",
   "metadata": {},
   "outputs": [],
   "source": [
    "buffer = ExperienceBuffer(REPLAY_SIZE)\n",
    "agent = Agent(env, buffer)\n",
    "epsilon = EPSILON_START"
   ]
  },
  {
   "cell_type": "markdown",
   "id": "afbf4df7",
   "metadata": {},
   "source": [
    "Training loop to create an optimzer, a buffer for full episode rewards\n",
    ", a counter of frames and several variables to track our speed"
   ]
  },
  {
   "cell_type": "code",
   "execution_count": 24,
   "id": "1cf18aca",
   "metadata": {},
   "outputs": [],
   "source": [
    "optimizer = optim.Adam(net.parameters(), \n",
    "                       lr=LEARNING_RATE) # optimizer\n",
    "total_rewards = [] # buffer for full episode rewards\n",
    "frame_idx = 0 # counter of frames\n",
    "ts_frame = 0 # \n",
    "ts = time.time()\n",
    "best_m_reward = None # counter for best mean rewarded"
   ]
  },
  {
   "cell_type": "markdown",
   "id": "2cb0df95",
   "metadata": {},
   "source": [
    "In this block, we ask the agent to make a single step in the environment (using our current network and value for epsilon). This function returns a non-None result only if this is the final step in the episode"
   ]
  },
  {
   "cell_type": "code",
   "execution_count": 26,
   "id": "3d56aa21",
   "metadata": {},
   "outputs": [
    {
     "ename": "KeyboardInterrupt",
     "evalue": "",
     "output_type": "error",
     "traceback": [
      "\u001b[0;31m---------------------------------------------------------------------------\u001b[0m",
      "\u001b[0;31mKeyboardInterrupt\u001b[0m                         Traceback (most recent call last)",
      "\u001b[0;32m<ipython-input-26-b8bff4949b69>\u001b[0m in \u001b[0;36m<module>\u001b[0;34m\u001b[0m\n\u001b[1;32m      1\u001b[0m \u001b[0;32mwhile\u001b[0m \u001b[0;32mTrue\u001b[0m\u001b[0;34m:\u001b[0m\u001b[0;34m\u001b[0m\u001b[0;34m\u001b[0m\u001b[0m\n\u001b[1;32m      2\u001b[0m      \u001b[0mframe_idx\u001b[0m \u001b[0;34m+=\u001b[0m \u001b[0;36m1\u001b[0m\u001b[0;34m\u001b[0m\u001b[0;34m\u001b[0m\u001b[0m\n\u001b[0;32m----> 3\u001b[0;31m      epsilon = max(EPSILON_FINAL, EPSILON_START -\n\u001b[0m\u001b[1;32m      4\u001b[0m      frame_idx / EPSILON_DECAY_LAST_FRAME)\n",
      "\u001b[0;31mKeyboardInterrupt\u001b[0m: "
     ]
    }
   ],
   "source": [
    "reward = agent.play_step(net, epsilon, device=device)\n",
    "\n",
    "while True:\n",
    "    # count the iterations and decrease epsilon\n",
    "    frame_idx += 1\n",
    "    epsilon = max(EPSILON_FINAL, EPSILON_START - frame_idx / EPSILON_DECAY_LAST_FRAME)\n",
    "    \n",
    "    if reward is not None:\n",
    "        total_rewards.append(reward)\n",
    "        speed = (frame_idx - ts_frame)/(time.time())\n",
    "        ts_frame = frame_idx\n",
    "        ts = time.time()\n",
    "        m_reward = np.mean(total_rewards[-100:])\n",
    "        print(\"%d : done %d games, reward %.3f, \"\n",
    "              \"eps %.2f, speeed %.2f f/s\" % (\n",
    "            frame_idx, len(total_rewards), m_reward, epsilon,\n",
    "            speed\n",
    "            ))\n",
    "        writer.add_scalar(\"epsilon\", epsilon, frame_idx)\n",
    "        writer.add_scalar(\"speed\", speed, frame_idx)\n",
    "        writer.add_scalar(\"reward_100\", m_reward, frame_idx)\n",
    "        writer.add_scalar(\"reward\", reward, frame_idx)"
   ]
  },
  {
   "cell_type": "code",
   "execution_count": null,
   "id": "1bad8c52",
   "metadata": {},
   "outputs": [],
   "source": []
  }
 ],
 "metadata": {
  "kernelspec": {
   "display_name": "Python 3",
   "language": "python",
   "name": "python3"
  },
  "language_info": {
   "codemirror_mode": {
    "name": "ipython",
    "version": 3
   },
   "file_extension": ".py",
   "mimetype": "text/x-python",
   "name": "python",
   "nbconvert_exporter": "python",
   "pygments_lexer": "ipython3",
   "version": "3.8.5"
  }
 },
 "nbformat": 4,
 "nbformat_minor": 5
}
